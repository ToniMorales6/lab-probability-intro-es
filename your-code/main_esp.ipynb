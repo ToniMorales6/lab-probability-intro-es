{
 "cells": [
  {
   "cell_type": "markdown",
   "metadata": {},
   "source": [
    "# Probability"
   ]
  },
  {
   "cell_type": "markdown",
   "metadata": {},
   "source": [
    "## Reto 1\n",
    "Hay una caja con 10 bolas blancas, 12 bolas rojas y 8 bolas negras. Calcula la probabilidad de:\n",
    "* Sacar una bola blanca.\n",
    "* Sacar una bola blanca en la primera extracción y una bola negra en la segunda extracción sin reemplazar la primera.\n",
    "* Sacar una bola blanca en la primera extracción y una bola negra en la segunda extracción reemplazando la primera.\n",
    "* Sacar 3 bolas y que sean todas de diferentes colores."
   ]
  },
  {
   "cell_type": "markdown",
   "metadata": {},
   "source": [
    "- Una bola blanca"
   ]
  },
  {
   "cell_type": "markdown",
   "metadata": {},
   "source": [
    "\\begin{equation*}\n",
    "\\begin{aligned}\n",
    "P(\\text{una bola blanca}) &= \\frac{10}{10+12+8} = \\frac{10}{30} = \\frac{1}{3} \\\\\n",
    "\\end{aligned}\n",
    "\\end{equation*}"
   ]
  },
  {
   "cell_type": "markdown",
   "metadata": {},
   "source": [
    "- Sacar una bola blanca en la primera extracción y una bola negra en la segunda extracción sin reemplazar la primera."
   ]
  },
  {
   "cell_type": "markdown",
   "metadata": {},
   "source": [
    "\\begin{equation*}\n",
    "\\begin{aligned}\n",
    "P(\\text{blanca primera extracción}) &= \\frac{1}{3} \\\\\n",
    "P(\\text{negra segunda extracción reemplazando}) &= \\frac{8}{29} \\\\\n",
    "P(\\text{combinada}) &= \\frac{1}{3} \\times \\frac{8}{29} = \\frac{8}{87} \\\\\n",
    "\\end{aligned}\n",
    "\\end{equation*}"
   ]
  },
  {
   "cell_type": "markdown",
   "metadata": {},
   "source": [
    "- Sacar una bola blanca en la primera extracción y una bola negra en la segunda extracción reemplazando la primera."
   ]
  },
  {
   "cell_type": "markdown",
   "metadata": {},
   "source": [
    "\\begin{equation*}\n",
    "\\begin{aligned}\n",
    "P(\\text{blanca primera extracción}) &= \\frac{1}{3} \\\\\n",
    "P(\\text{negra segunda extracción reemplazando}) &= \\frac{8}{30} \\\\\n",
    "P(\\text{combinada}) &= \\frac{1}{3} \\times \\frac{8}{30} = \\frac{8}{90} \\\\\n",
    "\\end{aligned}\n",
    "\\end{equation*}"
   ]
  },
  {
   "cell_type": "markdown",
   "metadata": {},
   "source": [
    "- Sacar 3 bolas y que sean todas de diferentes colores."
   ]
  },
  {
   "cell_type": "markdown",
   "metadata": {},
   "source": [
    "Hay 6 posibilidades pero todas son simétricas entre ellas.  \n",
    "Se comprueban dos de ellas para ver si esto es cierto:\n",
    "\n",
    "\\begin{equation*}\n",
    "\\begin{aligned}\n",
    "P(\\text{blanca primera extracción}) &= \\frac{1}{3} \\\\\n",
    "P(\\text{negra segunda extracción}) &= \\frac{8}{29} \\\\\n",
    "P(\\text{roja tercera extracción}) &= \\frac{12}{28} = \\frac{3}{7} \\\\\n",
    "P(\\text{combinación 3 sucesos}) &= \\frac{1}{3} \\times \\frac{8}{29} \\times \\frac{3}{7} = \\frac{24}{609} = \\frac{8}{203} \\\\\n",
    "\\end{aligned}\n",
    "\\end{equation*}\n",
    "\n",
    "\\begin{equation*}\n",
    "\\begin{aligned}\n",
    "P(\\text{roja primera extracción}) &= \\frac{12}{30} \\\\\n",
    "P(\\text{blanca segunda extracción}) &= \\frac{10}{29} \\\\\n",
    "P(\\text{negra tercera extracción}) &= \\frac{8}{28} \\\\\n",
    "P(\\text{combinación 3 sucesos}) &= \\frac{12}{30} \\times \\frac{10}{29} \\times \\frac{8}{28} = \\frac{960}{24360} = \\frac{8}{203} \\\\\n",
    "\\end{aligned}\n",
    "\\end{equation*}\n",
    "\n",
    "Entonces multiplicamos esta probabilidad entre 6 y nos da la probabilidad total de sacar 3 bolas diferentes seguidas.\n",
    "\n",
    "\\begin{equation*}\n",
    "P(6 \\text{ variantes}) = \\frac{8}{203} \\times 6 = \\frac{48}{203}\n",
    "\\end{equation*}\n"
   ]
  },
  {
   "cell_type": "markdown",
   "metadata": {},
   "source": [
    "## Reto 2\n",
    "\n",
    "Quieres ir de picnic el sábado. Odias la lluvia y quieres planificar tu fin de semana. Para ayudarte a tomar una decisión, recopilas los siguientes datos sobre los días lluviosos:\n",
    "\n",
    "* El 40% de todos los días están nublados.\n",
    "* Aproximadamente el 50% de los días nublados son lluviosos.\n",
    "* Aproximadamente el 20% de los días no nublados son lluviosos.\n",
    "\n",
    "¿Cuál es la probabilidad de que llueva el próximo sábado?"
   ]
  },
  {
   "cell_type": "code",
   "execution_count": 2,
   "metadata": {},
   "outputs": [
    {
     "data": {
      "text/plain": [
       "0.32"
      ]
     },
     "execution_count": 2,
     "metadata": {},
     "output_type": "execute_result"
    }
   ],
   "source": [
    "# Se combinarían la posibilades de 40% de dias * 50% de esos días mas el 60% por 20% de los no nublados\n",
    "p = (0.4*0.5)+(0.6*0.2)\n",
    "p"
   ]
  },
  {
   "cell_type": "markdown",
   "metadata": {},
   "source": [
    "Por lo tanto la probabilidad es de lluvia es de \n",
    "0.32 * 100 = 32%"
   ]
  },
  {
   "cell_type": "markdown",
   "metadata": {},
   "source": [
    "## Reto 3\n",
    "\n",
    "A y B son eventos de una probabilidad tal que \\(P(A) = 0.3\\), \\(P(B) = 0.6\\) y \\(P(A \\cap B) = 0.1\\)\n",
    "\n",
    "¿Cuáles de las siguientes afirmaciones son verdaderas?\n",
    "**SUGERENCIA: dibuja un gran diagrama de Venn a tu lado**\n",
    "* \\(P($\\overline{A}$) = 0.7\\)\n",
    "* \\(P($A$ $\\cup$ B) = 0.6\\)\n",
    "* \\(P($A$ $\\cap$ $\\overline{B}$) = 0.2\\)\n",
    "* \\(P($A$ $\\cup$ $\\overline{A}$) = 1\\)  \n",
    "* \\(P($A$ $\\cap$ ($B$ $\\cup$ $\\overline{B}$)) = 0.4\\)\n",
    "* \\(P($\\overline{A}$ $\\cap$ $\\overline{B}$) = 0.3\\)\n",
    "* \\($P$($\\overline{A}$ $\\cap$ $B$) = 0.9\\)  "
   ]
  },
  {
   "cell_type": "markdown",
   "metadata": {},
   "source": [
    "\\begin{align*}\n",
    "1. & \\quad P(\\overline{A}) = 1 - P(A) = 1 - 0.3 = 0.7 \\quad \\text{(Verdadera)} \\\\\n",
    "2. & \\quad P(A \\cup B) = P(A) + P(B) - P(A \\cap B) = 0.3 + 0.6 - 0.1 = 0.8 \\quad \\text{(Falsa)} \\\\\n",
    "3. & \\quad P(A \\cap \\overline{B}) = P(A) - P(A \\cap B) = 0.3 - 0.1 = 0.2 \\quad \\text{(Verdadera)} \\\\\n",
    "4. & \\quad P(A \\cup \\overline{A}) = P(\\Omega) = 1 \\quad \\text{(Por definición el espacio muestral completo es 1. Verdadera)} \\\\\n",
    "5. & \\quad P(A \\cap (B \\cup \\overline{B})) = P(A \\cap \\Omega) = P(A) = 0.3 \\quad \\text{(Verdadera)} \\\\\n",
    "6. & \\quad P(\\overline{A} \\cap \\overline{B}) = 1 - P(A \\cup B) = 1 - 0.8 = 0.2 \\quad \\text{(Falsa)} \\\\\n",
    "7. & \\quad P(\\overline{A} \\cap B) = P(B) - P(A \\cap B) = 0.6 - 0.1 = 0.5 \\quad \\text{(Verdadera)} \\\\\n",
    "\\end{align*}"
   ]
  },
  {
   "cell_type": "markdown",
   "metadata": {},
   "source": [
    "## Reto 4\n",
    "\n",
    "* Si alguien viaja a China, la probabilidad de contraer Covid es del 1%\n",
    "* Si alguien viaja a Italia, la probabilidad de contraer Covid es del 20%\n",
    "\n",
    "Lanzo un dado con números 1, 2, 3, 4, 5, 6:\n",
    "* Si sale 1: Vuelo a Italia\n",
    "* Si no sale 1: Vuelo a China\n",
    "\n",
    "Durante mi viaje, contraje Covid. ¿Cuál es la probabilidad de que haya volado a China?"
   ]
  },
  {
   "cell_type": "markdown",
   "metadata": {},
   "source": [
    "\\begin{align*}\n",
    "I & : \\text{Volé a Italia} \\\\\n",
    "C & : \\text{Volé a China} \\\\\n",
    "K & : \\text{Contraje Covid}\n",
    "\\end{align*}\n",
    "\n",
    "El dado tiene 6 caras:\n",
    "\\begin{align*}\n",
    "P(I) &= \\frac{1}{6} \\\\\n",
    "P(C) &= \\frac{5}{6}\n",
    "\\end{align*}\n",
    "\n",
    "Las probabilidades de contraer Covid en cada país son:\n",
    "\\begin{align*}\n",
    "P(K|I) &= 0.20 \\\\\n",
    "P(K|C) &= 0.01\n",
    "\\end{align*}\n",
    "\n",
    "Queremos encontrar \\(P(C|K)\\), la probabilidad de haber volado a China dado que contrajo Covid. Usamos el teorema de Bayes:\n",
    "\n",
    "\\begin{align*}\n",
    "P(C|K) &= \\frac{P(K|C) \\cdot P(C)}{P(K)} \\\\\n",
    "P(K) &= P(K|I) \\cdot P(I) + P(K|C) \\cdot P(C) \\\\\n",
    "P(K) &= (0.20 \\cdot \\frac{1}{6}) + (0.01 \\cdot \\frac{5}{6}) \\\\\n",
    "P(K) &= \\frac{0.20}{6} + \\frac{0.05}{6} \\\\\n",
    "P(K) &= \\frac{0.25}{6} \\\\\n",
    "P(K) &= \\frac{1}{24}\n",
    "\\end{align*}\n",
    "\n",
    "Entonces, ya con todas las variables necesarias:\n",
    "\n",
    "\\begin{align*}\n",
    "P(C|K) &= \\frac{P(K|C) \\cdot P(C)}{P(K)} \\\\\n",
    "P(C|K) &= \\frac{0.01 \\cdot \\frac{5}{6}}{\\frac{1}{24}} \\\\\n",
    "P(C|K) &= \\frac{0.01 \\cdot 5 \\cdot 24}{6} \\\\\n",
    "P(C|K) &= \\frac{0.01 \\cdot 120}{6} \\\\\n",
    "P(C|K) &= \\frac{1.2}{6} \\\\\n",
    "P(C|K) &= 0.20\n",
    "\\end{align*}\n",
    "\n",
    "Por lo tanto, la probabilidad de que haya volado a China dado que contrajo Covid es \\(P(C|K) = 0.20\\). Es decir, 20%."
   ]
  },
  {
   "cell_type": "markdown",
   "metadata": {},
   "source": [
    "## BONUS\n",
    "\n",
    "Lanzas 2 dados. ¿Cuál es la probabilidad de que la suma de los números sea 7? ¿Y 8? ¿Y 9? Luego simula 10000 veces y dibuja un gráfico de conteo.\n",
    "\n",
    "tu explicación aquí"
   ]
  }
 ],
 "metadata": {
  "kernelspec": {
   "display_name": "Python 3 (ipykernel)",
   "language": "python",
   "name": "python3"
  },
  "language_info": {
   "codemirror_mode": {
    "name": "ipython",
    "version": 3
   },
   "file_extension": ".py",
   "mimetype": "text/x-python",
   "name": "python",
   "nbconvert_exporter": "python",
   "pygments_lexer": "ipython3",
   "version": "3.12.4"
  },
  "toc": {
   "base_numbering": 1,
   "nav_menu": {},
   "number_sections": false,
   "sideBar": true,
   "skip_h1_title": false,
   "title_cell": "Table of Contents",
   "title_sidebar": "Contents",
   "toc_cell": false,
   "toc_position": {
    "height": "calc(100% - 180px)",
    "left": "10px",
    "top": "150px",
    "width": "296.475px"
   },
   "toc_section_display": true,
   "toc_window_display": false
  },
  "varInspector": {
   "cols": {
    "lenName": 16,
    "lenType": 16,
    "lenVar": 40
   },
   "kernels_config": {
    "python": {
     "delete_cmd_postfix": "",
     "delete_cmd_prefix": "del ",
     "library": "var_list.py",
     "varRefreshCmd": "print(var_dic_list())"
    },
    "r": {
     "delete_cmd_postfix": ") ",
     "delete_cmd_prefix": "rm(",
     "library": "var_list.r",
     "varRefreshCmd": "cat(var_dic_list()) "
    }
   },
   "types_to_exclude": [
    "module",
    "function",
    "builtin_function_or_method",
    "instance",
    "_Feature"
   ],
   "window_display": false
  }
 },
 "nbformat": 4,
 "nbformat_minor": 2
}
